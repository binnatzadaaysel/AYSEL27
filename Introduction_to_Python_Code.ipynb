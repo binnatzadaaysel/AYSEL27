{
  "nbformat": 4,
  "nbformat_minor": 0,
  "metadata": {
    "colab": {
      "name": "Introduction to Python: Code.ipynb",
      "provenance": [],
      "collapsed_sections": [],
      "include_colab_link": true
    },
    "kernelspec": {
      "name": "python3",
      "display_name": "Python 3"
    },
    "language_info": {
      "name": "python"
    }
  },
  "cells": [
    {
      "cell_type": "markdown",
      "metadata": {
        "id": "view-in-github",
        "colab_type": "text"
      },
      "source": [
        "<a href=\"https://colab.research.google.com/github/binnatzadaaysel/AYSEL27/blob/main/Introduction_to_Python_Code.ipynb\" target=\"_parent\"><img src=\"https://colab.research.google.com/assets/colab-badge.svg\" alt=\"Open In Colab\"/></a>"
      ]
    },
    {
      "cell_type": "markdown",
      "metadata": {
        "id": "JShNcC8uqWmk"
      },
      "source": [
        "# Tell the world that you are a programmer"
      ]
    },
    {
      "cell_type": "code",
      "metadata": {
        "id": "aBOF-g2MqM2s"
      },
      "source": [
        "print(\"Hello World\")"
      ],
      "execution_count": null,
      "outputs": []
    },
    {
      "cell_type": "markdown",
      "metadata": {
        "id": "i_Upzw32rOMi"
      },
      "source": [
        "# Respect the syntax of the language."
      ]
    },
    {
      "cell_type": "markdown",
      "metadata": {
        "id": "k2LR6kwhron6"
      },
      "source": [
        "if you won't respect, Python will punish you via syntax error"
      ]
    },
    {
      "cell_type": "code",
      "metadata": {
        "id": "uLaUR98trlfq"
      },
      "source": [
        "print(\"Hello World\""
      ],
      "execution_count": null,
      "outputs": []
    },
    {
      "cell_type": "markdown",
      "metadata": {
        "id": "jCmO8ihSqOnc"
      },
      "source": [
        "# Python as a simple calculator"
      ]
    },
    {
      "cell_type": "code",
      "metadata": {
        "id": "Jmlg7U8RqcJC"
      },
      "source": [
        "12 + 3"
      ],
      "execution_count": null,
      "outputs": []
    },
    {
      "cell_type": "code",
      "metadata": {
        "id": "QWO_Qmk1wXGd"
      },
      "source": [
        "20 - 15"
      ],
      "execution_count": null,
      "outputs": []
    },
    {
      "cell_type": "code",
      "metadata": {
        "id": "17a9scLawYYF"
      },
      "source": [
        "40 / 8"
      ],
      "execution_count": null,
      "outputs": []
    },
    {
      "cell_type": "markdown",
      "metadata": {
        "id": "qsTQD6Svq5zy"
      },
      "source": [
        "# Let's calculate after how many years you will become 100 years old"
      ]
    },
    {
      "cell_type": "code",
      "metadata": {
        "id": "pbfhEeurqdQr"
      },
      "source": [
        "100 - 27"
      ],
      "execution_count": null,
      "outputs": []
    },
    {
      "cell_type": "markdown",
      "metadata": {
        "id": "cqNADNMEtt4j"
      },
      "source": [
        "# It would be more practical to have the option of storing information, that we can reuse later. Variables will help us to solve this problem "
      ]
    },
    {
      "cell_type": "code",
      "metadata": {
        "id": "H4X8TGAgt_Kx"
      },
      "source": [
        "age = 27\n",
        "print(100 - age)"
      ],
      "execution_count": null,
      "outputs": []
    },
    {
      "cell_type": "markdown",
      "metadata": {
        "id": "ROB4ew_KweHL"
      },
      "source": [
        "Remember, code is read from 1 until the last line in order"
      ]
    },
    {
      "cell_type": "markdown",
      "metadata": {
        "id": "q7yWvaiGvMZW"
      },
      "source": [
        "# You can name them in various different ways (with some restrictions), but still make sure that they make sense. \n",
        "\n"
      ]
    },
    {
      "cell_type": "code",
      "metadata": {
        "id": "-3kajRF5vZPc"
      },
      "source": [
        "m = 27\n",
        "print(100 - m)"
      ],
      "execution_count": null,
      "outputs": []
    },
    {
      "cell_type": "markdown",
      "metadata": {
        "id": "SMFKdD7Pvgfc"
      },
      "source": [
        "As you can see, the result is the same, but the program became more difficult to read."
      ]
    },
    {
      "cell_type": "markdown",
      "metadata": {
        "id": "MeiQ0o5Pufoj"
      },
      "source": [
        "# In order to make the code more readable for other developers, we add comments to our code. They do not impact the code, they act as simple plain text to give some information."
      ]
    },
    {
      "cell_type": "code",
      "metadata": {
        "id": "pq7Fc9VIuoSU"
      },
      "source": [
        "# This program calculates after how many\n",
        "# year you will become 100 years old\n",
        "\n",
        "age = 19\n",
        "print(100 - age)"
      ],
      "execution_count": null,
      "outputs": []
    },
    {
      "cell_type": "markdown",
      "metadata": {
        "id": "T15_fpHox7-t"
      },
      "source": [
        "Now we can simply tweak the value of age variable to get different results."
      ]
    },
    {
      "cell_type": "markdown",
      "metadata": {
        "id": "kqvXpIijvDep"
      },
      "source": [
        "# Let's engage the user into our programs by getting an input from them"
      ]
    },
    {
      "cell_type": "code",
      "metadata": {
        "id": "7SnYZ5s0vzey"
      },
      "source": [
        "name = input(\"What is your name? \")\n",
        "\n",
        "print(\"Hello\", name)"
      ],
      "execution_count": null,
      "outputs": []
    },
    {
      "cell_type": "markdown",
      "metadata": {
        "id": "cptAflYTxYUi"
      },
      "source": [
        "The message inside the input is called a prompt. It shows the user some sort of message before recieving an input. It makes sense because users need to know what information they should give."
      ]
    },
    {
      "cell_type": "markdown",
      "metadata": {
        "id": "_FDAjY13xBVN"
      },
      "source": [
        "# Intoduce yourself to a program. Let's tell it our age and name"
      ]
    },
    {
      "cell_type": "code",
      "metadata": {
        "id": "C4-1fcvVw_xu"
      },
      "source": [
        "name = input(\"My name is: \")\n",
        "age = input(\"My age is: \")\n",
        "\n",
        "print(\"Hello\", name, \"I know that you are\", age, \"years old\")"
      ],
      "execution_count": null,
      "outputs": []
    },
    {
      "cell_type": "markdown",
      "metadata": {
        "id": "xdmn0OT3yFt2"
      },
      "source": [
        "# Let's assume we have 3 people in our classroom and we want to find their average age"
      ]
    },
    {
      "cell_type": "code",
      "metadata": {
        "id": "InYEwRRtyOLn"
      },
      "source": [
        "# Program calculates the average age of students\n",
        "\n",
        "age_1 = 13\n",
        "age_2 = 14\n",
        "age_3 = 12\n",
        "\n",
        "avg_age = age_1 + age_2 + age_3 / 3\n",
        "\n",
        "print(avg_age)"
      ],
      "execution_count": null,
      "outputs": []
    },
    {
      "cell_type": "markdown",
      "metadata": {
        "id": "I6ca4TX-yeQW"
      },
      "source": [
        "But something went wrong. It seems like we have a bug! We must find the mistake and debug it."
      ]
    },
    {
      "cell_type": "code",
      "metadata": {
        "id": "OYEIUCBjyb0N"
      },
      "source": [
        "age_1 = 13\n",
        "age_2 = 14\n",
        "age_3 = 12\n",
        "\n",
        "avg_age = (age_1 + age_2 + age_3) / 3\n",
        "\n",
        "print(avg_age)"
      ],
      "execution_count": null,
      "outputs": []
    },
    {
      "cell_type": "markdown",
      "metadata": {
        "id": "bv3eIkuNyqvF"
      },
      "source": [
        "We managed to fix our logic error by using the right calculation."
      ]
    }
  ]
}